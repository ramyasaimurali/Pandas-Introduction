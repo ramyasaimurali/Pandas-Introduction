{
 "cells": [
  {
   "cell_type": "markdown",
   "id": "37a7ed6e-5d64-4b56-9aa2-d4078d4f285f",
   "metadata": {},
   "source": [
    "# Creating, Reading, and Writing Data in Pandas"
   ]
  },
  {
   "cell_type": "markdown",
   "id": "cbb0dca8-47df-4720-b827-18a1b933f3e5",
   "metadata": {},
   "source": [
    "## 1. Creating DataFrames\n",
    "\n",
    "A **DataFrame** is a 2-dimensional, tabular data structure in pandas. You can create one manually by passing a dictionary of column names and lists of values to `pd.DataFrame()`. Optionally, you can specify row labels (the index).\n",
    "\n",
    "**General Syntax:**\n",
    "import pandas as pd\n",
    "df = pd.DataFrame(data_dict, index=index_list)  \n",
    "data_dict - {Col:[row value]}\n",
    "\n",
    "**Example:**"
   ]
  },
  {
   "cell_type": "code",
   "execution_count": 34,
   "id": "9f733b52-6fb8-421e-bae2-1c79f811c5b0",
   "metadata": {},
   "outputs": [
    {
     "data": {
      "text/html": [
       "<div>\n",
       "<style scoped>\n",
       "    .dataframe tbody tr th:only-of-type {\n",
       "        vertical-align: middle;\n",
       "    }\n",
       "\n",
       "    .dataframe tbody tr th {\n",
       "        vertical-align: top;\n",
       "    }\n",
       "\n",
       "    .dataframe thead th {\n",
       "        text-align: right;\n",
       "    }\n",
       "</style>\n",
       "<table border=\"1\" class=\"dataframe\">\n",
       "  <thead>\n",
       "    <tr style=\"text-align: right;\">\n",
       "      <th></th>\n",
       "      <th>Yes</th>\n",
       "      <th>No</th>\n",
       "    </tr>\n",
       "  </thead>\n",
       "  <tbody>\n",
       "    <tr>\n",
       "      <th>0</th>\n",
       "      <td>50</td>\n",
       "      <td>131</td>\n",
       "    </tr>\n",
       "    <tr>\n",
       "      <th>1</th>\n",
       "      <td>21</td>\n",
       "      <td>2</td>\n",
       "    </tr>\n",
       "  </tbody>\n",
       "</table>\n",
       "</div>"
      ],
      "text/plain": [
       "   Yes   No\n",
       "0   50  131\n",
       "1   21    2"
      ]
     },
     "execution_count": 34,
     "metadata": {},
     "output_type": "execute_result"
    }
   ],
   "source": [
    "import pandas as pd\n",
    "\n",
    "#Creating a DataFrame from a dictionary\n",
    "pd.DataFrame({'Yes': [50, 21], 'No': [131, 2]})"
   ]
  },
  {
   "cell_type": "markdown",
   "id": "c21e4df1-b396-4b25-abd9-1da4c11321bd",
   "metadata": {},
   "source": [
    "## 2. Creating DataFrames with Custom Index\n",
    "\n",
    "You can assign custom row labels (index) to your DataFrame using the `index` parameter.\n",
    "\n",
    "**General Syntax:**\n",
    "df = pd.DataFrame(data_dict, index=index_list)\n",
    "\n",
    "text\n",
    "\n",
    "**Example:**"
   ]
  },
  {
   "cell_type": "code",
   "execution_count": null,
   "id": "c55578ff-a8fc-4ae1-b167-53f7b96a9f75",
   "metadata": {},
   "outputs": [],
   "source": [
    "data = {'Bob': ['I liked it.', 'It was awful.'],\n",
    "'Sue': ['Pretty good.', 'Bland.']}\n",
    "index = ['Product A', 'Product B']\n",
    "df = pd.DataFrame(data, index=index)\n",
    "print(df)"
   ]
  },
  {
   "cell_type": "markdown",
   "id": "bdb31ae2-a02f-43fb-83b0-05679a367c00",
   "metadata": {},
   "source": [
    "## 3. Creating a Series\n",
    "\n",
    "A **Series** is a one-dimensional array-like object in pandas. It can be created from a list (with optional custom index and name).\n",
    "\n",
    "**General Syntax:**\n",
    "s = pd.Series(data_list, index=index_list, name='series_name')\n",
    "\n",
    "**Example:**"
   ]
  },
  {
   "cell_type": "code",
   "execution_count": 35,
   "id": "0d4ceddf-e345-477c-9969-93902b2c4793",
   "metadata": {},
   "outputs": [
    {
     "data": {
      "text/plain": [
       "2015 Sales    30\n",
       "2016 Sales    35\n",
       "2017 Sales    40\n",
       "Name: Product A, dtype: int64"
      ]
     },
     "execution_count": 35,
     "metadata": {},
     "output_type": "execute_result"
    }
   ],
   "source": [
    "pd.Series([1, 2, 3, 4, 5])\n",
    "pd.Series([30, 35, 40], index=['2015 Sales', '2016 Sales', '2017 Sales'], name='Product A')"
   ]
  },
  {
   "cell_type": "markdown",
   "id": "636faa7c-5b49-40b7-bfa6-3298ed3f7fa8",
   "metadata": {},
   "source": [
    "## 4.1 Seaborn\n",
    "**import seaborn** as sns imports the Seaborn library, which is a powerful Python data visualization library built on top of matplotlib and works well with pandas DataFrames.\n",
    "\n",
    "**sns.get_dataset_names()** returns a list of all the names of the built-in example datasets available in Seaborn"
   ]
  },
  {
   "cell_type": "code",
   "execution_count": null,
   "id": "543504aa-b3ff-4bdd-86b4-e48d2c00d6c6",
   "metadata": {},
   "outputs": [],
   "source": [
    "import seaborn as sns\n",
    "sns.get_dataset_names()"
   ]
  },
  {
   "cell_type": "code",
   "execution_count": null,
   "id": "b9119039-2966-4d03-876f-2fecdd28a08f",
   "metadata": {},
   "outputs": [],
   "source": [
    "#Load the Titanic dataset to a DataFrame\n",
    "ds= sns.load_dataset('titanic')\n",
    "df= pd.DataFrame(ds)"
   ]
  },
  {
   "cell_type": "markdown",
   "id": "81415fa6-e763-4341-907b-f72717868280",
   "metadata": {},
   "source": [
    "## 4. Reading Data from a CSV File\n",
    "\n",
    "To load data from a CSV file into a DataFrame, use `pd.read_csv()`. You can specify the file path and optional parameters such as `index_col`.\n",
    "\n",
    "**General Syntax:**\n",
    "df = pd.read_csv('file_path.csv', index_col=index_column)\n",
    "\n",
    "Since We are using an example DataSet from Seaborn, no need to do this step. Just look up the syntax here for future references."
   ]
  },
  {
   "cell_type": "markdown",
   "id": "28e0bebf-c94b-4693-aebd-6c007e247ae5",
   "metadata": {},
   "source": [
    "## 5. Checking DataFrame Shape and Previewing Data\n",
    "\n",
    "You can check the size of your DataFrame with `.shape` and preview the first few rows with `.head()`.\n",
    "\n",
    "**General Syntax:**\n",
    "df.shape\n",
    "df.head(n)\n",
    "\n",
    "**Example:**"
   ]
  },
  {
   "cell_type": "code",
   "execution_count": null,
   "id": "aa83b041-cf8b-4971-a437-ea0c139f2770",
   "metadata": {},
   "outputs": [],
   "source": [
    "print(df.shape) # (rows, columns)\n",
    "df.head() # First 5 rows"
   ]
  },
  {
   "cell_type": "markdown",
   "id": "30ef37d3-d864-4763-b0da-fb811e518aa9",
   "metadata": {},
   "source": [
    "## 6. Writing Data to a CSV File\n",
    "\n",
    "You can save a DataFrame to a CSV file using `.to_csv()`.\n",
    "\n",
    "**General Syntax:**\n",
    "df.to_csv('output_file.csv', index=include_index)\n",
    "\n",
    "**Example:**"
   ]
  },
  {
   "cell_type": "code",
   "execution_count": null,
   "id": "98bcef13-8f9a-49f9-87a0-24353cecd1d6",
   "metadata": {},
   "outputs": [],
   "source": [
    "#Save DataFrame to a CSV file without the index\n",
    "df.to_csv('my_data.csv', index=False)"
   ]
  },
  {
   "cell_type": "code",
   "execution_count": null,
   "id": "fce02490-241f-4ec7-92d9-891544c456b5",
   "metadata": {},
   "outputs": [],
   "source": [
    "my_data_df = pd.read_csv('my_data.csv', index_col=0) #survived has become index colmn\n",
    "my_data_df #Gets Titantic CSV"
   ]
  }
 ],
 "metadata": {
  "kernelspec": {
   "display_name": "Python (DataMining)",
   "language": "python",
   "name": "datamining"
  },
  "language_info": {
   "codemirror_mode": {
    "name": "ipython",
    "version": 3
   },
   "file_extension": ".py",
   "mimetype": "text/x-python",
   "name": "python",
   "nbconvert_exporter": "python",
   "pygments_lexer": "ipython3",
   "version": "3.9.21"
  }
 },
 "nbformat": 4,
 "nbformat_minor": 5
}
