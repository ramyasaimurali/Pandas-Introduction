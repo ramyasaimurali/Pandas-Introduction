{
 "cells": [
  {
   "cell_type": "markdown",
   "id": "cff4c08b-b99d-44b0-a18d-e4e2a31d1667",
   "metadata": {},
   "source": [
    "# Pandas Data Selection, Indexing, and Assignment"
   ]
  },
  {
   "cell_type": "markdown",
   "id": "e9591da4-b685-4c54-abb5-2a4d2c3882e7",
   "metadata": {
    "jp-MarkdownHeadingCollapsed": true
   },
   "source": [
    "## 1. Selecting Columns\n",
    "\n",
    "You can select columns using **bracket** notation (recommended for all cases) or **dot** notation (only for simple column names without spaces/special characters)\n",
    "\n",
    "**Syntax:**  \n",
    "df['colname'] # Always works  \n",
    "df.colname # Only if colname is a valid Python identifier\n",
    "\n",
    "**Example:**"
   ]
  },
  {
   "cell_type": "code",
   "execution_count": null,
   "id": "9b143c5d-7ee7-4f49-88a5-2a432d7659c5",
   "metadata": {},
   "outputs": [],
   "source": [
    "import seaborn as sns\n",
    "import pandas as pd\n",
    "#sns.get_dataset_names() #- This will print a list of dataset names you can use\n",
    "\n",
    "ds= sns.load_dataset('titanic')\n",
    "df= pd.DataFrame(ds)\n",
    "#display(df)\n",
    "df['embark_town']           #df['colname']"
   ]
  },
  {
   "cell_type": "code",
   "execution_count": null,
   "id": "f6c30498-be0f-4609-bcf7-51864eb4e3ef",
   "metadata": {},
   "outputs": [],
   "source": [
    "df.sex      #df.colname"
   ]
  },
  {
   "cell_type": "markdown",
   "id": "6b53c1f0-5285-4231-8c1d-7ee245295d09",
   "metadata": {
    "jp-MarkdownHeadingCollapsed": true
   },
   "source": [
    "## 2. Accessing Specific Values\n",
    "\n",
    "For efficient access to single values, use `.at[]` (label-based) or `.iat[]` (integer position). You can also use `.loc[]` and `.iloc[]` for more general selection.\n",
    "\n",
    "**Syntax:**  \n",
    "By label  \n",
    "value = df.at[row_label, 'colname']  \n",
    "\n",
    "By integer position  \n",
    "value = df.iat[row_index, col_index]  \n",
    "\n",
    "\n",
    "**Example:**"
   ]
  },
  {
   "cell_type": "code",
   "execution_count": null,
   "id": "d8e06d63-1e84-42c6-92c9-3cb47a4d97a6",
   "metadata": {},
   "outputs": [],
   "source": [
    "df.at[1, 'sex'] # Value at row label 1, column 'sex'"
   ]
  },
  {
   "cell_type": "code",
   "execution_count": null,
   "id": "043c324b-a3e3-4a9f-9c2a-853393ea670e",
   "metadata": {},
   "outputs": [],
   "source": [
    "df.iat[1,2] # Value at 1st row, 2nd column (0-based)"
   ]
  },
  {
   "cell_type": "markdown",
   "id": "a53d8968-5773-4c00-8220-a791f614aa22",
   "metadata": {
    "jp-MarkdownHeadingCollapsed": true
   },
   "source": [
    "## 3. Index-Based Selection with `iloc`\n",
    "\n",
    "Use `iloc` for integer-location based indexing (row, column order).\n",
    "\n",
    "**Syntax:**  \n",
    "df.iloc[row_start:row_end, col_start:col_end]\n",
    "\n",
    "**Examples:**"
   ]
  },
  {
   "cell_type": "code",
   "execution_count": null,
   "id": "f7773d32-1f2c-458d-8b56-a809b00cf35c",
   "metadata": {},
   "outputs": [],
   "source": [
    "df.iloc # First row\n",
    "df.iloc[:, 0] # All rows, first column\n",
    "df.iloc[:3, 0] # First three rows, first column\n",
    "df.iloc[1:4, 2:5] # Rows 1-3, columns 2-4\n",
    "df.iloc[-5:] # Last five rows"
   ]
  },
  {
   "cell_type": "markdown",
   "id": "ffa2f535-4d68-492a-b89e-2c74dd1083c8",
   "metadata": {
    "jp-MarkdownHeadingCollapsed": true
   },
   "source": [
    "## 4. Label-Based Selection with `loc`\n",
    "\n",
    "Use `loc` for label-based indexing (row label, column label).\n",
    "\n",
    "**Syntax:**  \n",
    "df.loc[row_label, col_label]\n",
    "\n",
    "**Examples:**"
   ]
  },
  {
   "cell_type": "code",
   "execution_count": null,
   "id": "74619976-9ba6-4a30-9c94-bb976390f146",
   "metadata": {},
   "outputs": [],
   "source": [
    "df.loc[10, 'embark_town'] # Value at row label 10, column 'country'\n",
    "df.loc[5:10, ['sex', 'embark_town']] # Rows 5 to 10, specific columns"
   ]
  },
  {
   "cell_type": "markdown",
   "id": "2d6b5e91-44df-4d90-a0bc-22a2529c1459",
   "metadata": {},
   "source": [
    "**Note:**  \n",
    "- `iloc[0:10]` selects rows 0–9 (Python-style, exclusive).\n",
    "- `loc[0:10]` selects rows 0–10 (inclusive)."
   ]
  },
  {
   "cell_type": "markdown",
   "id": "76232af2-569b-41ab-8b1e-ce64ea84f64a",
   "metadata": {
    "jp-MarkdownHeadingCollapsed": true
   },
   "source": [
    "## 5. Setting and Resetting Index\n",
    "\n",
    "Set a column as the index for easier selection, then reset if needed.\n",
    "\n",
    "**Syntax:**  \n",
    "df = df.set_index('colname')  \n",
    "df = df.reset_index()  \n",
    "\n",
    "**Example:**"
   ]
  },
  {
   "cell_type": "code",
   "execution_count": null,
   "id": "f9319395-6c78-4861-8b36-841a83fba0d1",
   "metadata": {},
   "outputs": [],
   "source": [
    "df.set_index('survived')"
   ]
  },
  {
   "cell_type": "code",
   "execution_count": null,
   "id": "6ca2bb08-2be6-40ec-84aa-f13a93ed2da7",
   "metadata": {},
   "outputs": [],
   "source": [
    "df.reset_index()"
   ]
  },
  {
   "cell_type": "markdown",
   "id": "58865ca1-9556-490c-b257-1953128a97b0",
   "metadata": {
    "jp-MarkdownHeadingCollapsed": true
   },
   "source": [
    "## 6. Conditional Selection (Boolean Indexing)\n",
    "\n",
    "Filter rows based on conditions using boolean masks.\n",
    "\n",
    "**Syntax:**  \n",
    "mask = df['colname'] == value  \n",
    "filtered_df = df.loc[mask]  \n",
    "\n",
    "**Examples:**"
   ]
  },
  {
   "cell_type": "code",
   "execution_count": null,
   "id": "2726d54c-7fe1-4d62-9c85-aae7f5c848d0",
   "metadata": {},
   "outputs": [],
   "source": [
    "#df.loc[df['sex'] == 'female']\n",
    "df.loc[df['age'] >= 18]"
   ]
  },
  {
   "cell_type": "markdown",
   "id": "a74ebea5-2160-41eb-94dd-d86e31560772",
   "metadata": {
    "jp-MarkdownHeadingCollapsed": true
   },
   "source": [
    "## 7. Combining Multiple Conditions\n",
    "\n",
    "Use `&` for AND, `|` for OR, and `~` for NOT. Always wrap each condition in parentheses.\n",
    "\n",
    "**Examples:**"
   ]
  },
  {
   "cell_type": "code",
   "execution_count": null,
   "id": "c97e8aa5-23e8-4ae6-b4b2-298bf566ce28",
   "metadata": {},
   "outputs": [],
   "source": [
    "#df.loc[(df['sex'] == 'female') & (df['age'] >= 18)] # AND\n",
    "df.loc[(df['sex'] == 'male') | (df['embark_town'] == 'Cherbourg')] # OR\n",
    "#df.loc[~(df['embark_town'] == 'Cherbourg')] # NOT"
   ]
  },
  {
   "cell_type": "markdown",
   "id": "9177cd49-bdb6-4a3f-b278-d220b1db89e3",
   "metadata": {
    "jp-MarkdownHeadingCollapsed": true
   },
   "source": [
    "## 8. Using `isin` for Multiple Values\n",
    "\n",
    "Check if column values are in a list, set, or other iterable.\n",
    "\n",
    "**Syntax:**  \n",
    "mask = df['colname'].isin([value1, value2])  \n",
    "filtered_df = df.loc[mask]  \n",
    "\n",
    "**Example:**"
   ]
  },
  {
   "cell_type": "code",
   "execution_count": null,
   "id": "a8fb42df-c401-4ba3-804d-77d686ac26cc",
   "metadata": {},
   "outputs": [],
   "source": [
    "df.loc[df['embark_town'].isin(['Cherbourg', 'Southampton'])]"
   ]
  },
  {
   "cell_type": "markdown",
   "id": "9a2bbef1-e1ca-40cf-b493-6b09987f7c79",
   "metadata": {
    "jp-MarkdownHeadingCollapsed": true
   },
   "source": [
    "## 9. Handling Missing Data\n",
    "\n",
    "Use `isnull()` and `notnull()` to filter missing or non-missing values.\n",
    "\n",
    "**Examples:**"
   ]
  },
  {
   "cell_type": "code",
   "execution_count": null,
   "id": "f8845cc2-c03d-4c04-87af-1fba18e2b24c",
   "metadata": {},
   "outputs": [],
   "source": [
    "df.loc[df['age'].isnull()]"
   ]
  },
  {
   "cell_type": "code",
   "execution_count": null,
   "id": "ed19dea3-bc92-4561-b274-1e7f3b2ea9d4",
   "metadata": {},
   "outputs": [],
   "source": [
    "df.loc[df['age'].notnull()]  #177 rows + 714 rows = 891 total"
   ]
  },
  {
   "cell_type": "markdown",
   "id": "77edac38-6fdc-4f0b-9f06-2fc35075bd18",
   "metadata": {
    "jp-MarkdownHeadingCollapsed": true
   },
   "source": [
    "## 10. Assigning Values\n",
    "\n",
    "Assign values to entire columns or create new columns based on conditions.\n",
    "\n",
    "**Syntax:**  \n",
    "df['colname'] = value  \n",
    "df.loc[condition, 'colname'] = value  \n",
    "\n",
    "**Examples:**"
   ]
  },
  {
   "cell_type": "code",
   "execution_count": null,
   "id": "695e74f7-7107-40fa-aa40-0bef3bc2a689",
   "metadata": {},
   "outputs": [],
   "source": [
    "df['Male_Under18'] = 'default_value'\n",
    "display(df)\n",
    "#Delete a column - \n",
    "\n",
    "df.drop(columns=['Male_Under18'], inplace=True)\n",
    "display(df)"
   ]
  },
  {
   "cell_type": "markdown",
   "id": "100b4c98-3361-4ec0-b73a-0355c846f96a",
   "metadata": {},
   "source": [
    "#### Delete a single column by name (returns a new DataFrame)\n",
    "df = df.drop('column_name', axis=1)\n",
    "\n",
    "#### Delete multiple columns by name\n",
    "df = df.drop(['col1', 'col2'], axis=1)\n",
    "\n",
    "#### Delete a column in-place (modifies the original DataFrame)\n",
    "df.drop('column_name', axis=1, inplace=True)  \n",
    "\n",
    "Key Points:  \n",
    "- Use axis=1 (or axis='columns') to specify columns.  \n",
    "- By default, drop() does not change the original DataFrame unless inplace=True is used.  \n",
    "- You can also use the columns parameter:  "
   ]
  },
  {
   "cell_type": "code",
   "execution_count": null,
   "id": "b99d3fdf-2505-4c71-9b05-779b483f255b",
   "metadata": {},
   "outputs": [],
   "source": [
    "df.loc[df['age'] <= 18, 'under_18'] = 'Young'\n",
    "df.loc[df['under_18'] == 'Young']\n"
   ]
  },
  {
   "cell_type": "markdown",
   "id": "55d7e66d-e22f-47b6-bf5c-bf4ed3bb9d68",
   "metadata": {},
   "source": [
    "**Notes:**\n",
    "- Use `axis=1` or `axis='columns'` to specify you are dropping columns (not rows)[1][2][3][4][6][8].\n",
    "- The `drop()` method can remove one or multiple columns.\n",
    "- `del` and `pop()` can only remove one column at a time and always modify the DataFrame in place.\n",
    "- If you want to keep the original DataFrame unchanged, do not use `inplace=True` or use assignment (`df = df.drop(...)`).\n",
    "\n",
    "### Create a deep copy (recommended for most use cases)\n",
    "df_copy = df.copy()\n",
    "\n",
    "### Create a shallow copy (shares data with original, use with caution)\n",
    "df_shallow = df.copy(deep=False)\n",
    "By default, deep=True, so df.copy() creates a new DataFrame with its own data and indices. Changes to df_copy will NOT affect df and vice versa.\n",
    "\n",
    "With deep=False, the new DataFrame shares data with the original, so changes to one may affect the other. However, with the new \"copy-on-write\" behavior in recent pandas versions, even shallow copies are protected against accidental modification, but it's safest to use the default deep copy."
   ]
  },
  {
   "cell_type": "markdown",
   "id": "599862cc-08d6-400d-a468-dfebc7798c8b",
   "metadata": {},
   "source": [
    "## An exercise to practice using .copy"
   ]
  },
  {
   "cell_type": "markdown",
   "id": "7dc5ac88-5593-4853-b8d1-e139f97e9a60",
   "metadata": {
    "jp-MarkdownHeadingCollapsed": true
   },
   "source": [
    "### Adding a column to the copy of the df Dataframe"
   ]
  },
  {
   "cell_type": "code",
   "execution_count": null,
   "id": "da45d809-dc32-4926-8ee7-7306914a7e90",
   "metadata": {},
   "outputs": [],
   "source": [
    "df_copy = df.copy()\n",
    "df_copy.loc[df_copy['age'] > 18, 'over_18'] = 'Adult'\n",
    "\n",
    "df_copy"
   ]
  },
  {
   "cell_type": "markdown",
   "id": "12418f01-ea3c-4bb3-aa0c-c1347f303172",
   "metadata": {
    "jp-MarkdownHeadingCollapsed": true
   },
   "source": [
    "### Original DataFrame without the added column over_18"
   ]
  },
  {
   "cell_type": "code",
   "execution_count": null,
   "id": "d03f0974-4b45-48b7-a88f-f7f577b3558b",
   "metadata": {},
   "outputs": [],
   "source": [
    "df"
   ]
  }
 ],
 "metadata": {
  "kernelspec": {
   "display_name": "Python (DataMining)",
   "language": "python",
   "name": "datamining"
  },
  "language_info": {
   "codemirror_mode": {
    "name": "ipython",
    "version": 3
   },
   "file_extension": ".py",
   "mimetype": "text/x-python",
   "name": "python",
   "nbconvert_exporter": "python",
   "pygments_lexer": "ipython3",
   "version": "3.9.21"
  }
 },
 "nbformat": 4,
 "nbformat_minor": 5
}
